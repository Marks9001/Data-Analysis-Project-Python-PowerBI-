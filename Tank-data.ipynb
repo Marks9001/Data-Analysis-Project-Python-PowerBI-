{
 "cells": [
  {
   "cell_type": "code",
   "execution_count": 1,
   "id": "8ba81238",
   "metadata": {},
   "outputs": [],
   "source": [
    "import requests\n",
    "import json\n",
    "import pandas as pd"
   ]
  },
  {
   "cell_type": "code",
   "execution_count": 2,
   "id": "4e670839",
   "metadata": {},
   "outputs": [],
   "source": [
    "base_url = \"https://api.worldoftanks.eu/wot/encyclopedia/vehicles/?application_id=67369ded9212f123394343e566ee&fields=nation%2C+tank_id%2C+name%2C+tier%2C+type&page_no=\"\n",
    "pages = range(1, 10)\n",
    "the_list = {}\n",
    "\n"
   ]
  },
  {
   "cell_type": "code",
   "execution_count": 3,
   "id": "8382fa65",
   "metadata": {},
   "outputs": [],
   "source": [
    "for i in pages:\n",
    "    response = requests.get(base_url + \"%d\" %i)\n",
    "    item_load = response.json()\n",
    "    the_list.update(item_load['data'])\n",
    "\n"
   ]
  },
  {
   "cell_type": "code",
   "execution_count": 4,
   "id": "21407b1c",
   "metadata": {},
   "outputs": [],
   "source": [
    "df = pd.DataFrame.from_dict(the_list)\n",
    "df_transposed = df.transpose()"
   ]
  },
  {
   "cell_type": "code",
   "execution_count": 5,
   "id": "6893822b",
   "metadata": {},
   "outputs": [
    {
     "data": {
      "text/html": [
       "<div>\n",
       "<style scoped>\n",
       "    .dataframe tbody tr th:only-of-type {\n",
       "        vertical-align: middle;\n",
       "    }\n",
       "\n",
       "    .dataframe tbody tr th {\n",
       "        vertical-align: top;\n",
       "    }\n",
       "\n",
       "    .dataframe thead th {\n",
       "        text-align: right;\n",
       "    }\n",
       "</style>\n",
       "<table border=\"1\" class=\"dataframe\">\n",
       "  <thead>\n",
       "    <tr style=\"text-align: right;\">\n",
       "      <th></th>\n",
       "      <th>tier</th>\n",
       "      <th>nation</th>\n",
       "      <th>type</th>\n",
       "      <th>name</th>\n",
       "      <th>tank_id</th>\n",
       "    </tr>\n",
       "  </thead>\n",
       "  <tbody>\n",
       "    <tr>\n",
       "      <th>1</th>\n",
       "      <td>5</td>\n",
       "      <td>ussr</td>\n",
       "      <td>mediumTank</td>\n",
       "      <td>T-34</td>\n",
       "      <td>1</td>\n",
       "    </tr>\n",
       "    <tr>\n",
       "      <th>1057</th>\n",
       "      <td>5</td>\n",
       "      <td>usa</td>\n",
       "      <td>mediumTank</td>\n",
       "      <td>M4A1 Sherman</td>\n",
       "      <td>1057</td>\n",
       "    </tr>\n",
       "    <tr>\n",
       "      <th>513</th>\n",
       "      <td>7</td>\n",
       "      <td>ussr</td>\n",
       "      <td>heavyTank</td>\n",
       "      <td>IS</td>\n",
       "      <td>513</td>\n",
       "    </tr>\n",
       "    <tr>\n",
       "      <th>529</th>\n",
       "      <td>7</td>\n",
       "      <td>germany</td>\n",
       "      <td>heavyTank</td>\n",
       "      <td>Tiger I</td>\n",
       "      <td>529</td>\n",
       "    </tr>\n",
       "    <tr>\n",
       "      <th>1569</th>\n",
       "      <td>7</td>\n",
       "      <td>usa</td>\n",
       "      <td>mediumTank</td>\n",
       "      <td>T20</td>\n",
       "      <td>1569</td>\n",
       "    </tr>\n",
       "    <tr>\n",
       "      <th>...</th>\n",
       "      <td>...</td>\n",
       "      <td>...</td>\n",
       "      <td>...</td>\n",
       "      <td>...</td>\n",
       "      <td>...</td>\n",
       "    </tr>\n",
       "    <tr>\n",
       "      <th>65073</th>\n",
       "      <td>8</td>\n",
       "      <td>china</td>\n",
       "      <td>heavyTank</td>\n",
       "      <td>WZ-111 Alpine Tiger</td>\n",
       "      <td>65073</td>\n",
       "    </tr>\n",
       "    <tr>\n",
       "      <th>64321</th>\n",
       "      <td>9</td>\n",
       "      <td>france</td>\n",
       "      <td>heavyTank</td>\n",
       "      <td>AMX M4 mle. 51 FL</td>\n",
       "      <td>64321</td>\n",
       "    </tr>\n",
       "    <tr>\n",
       "      <th>65297</th>\n",
       "      <td>8</td>\n",
       "      <td>germany</td>\n",
       "      <td>heavyTank</td>\n",
       "      <td>Löwe FL</td>\n",
       "      <td>65297</td>\n",
       "    </tr>\n",
       "    <tr>\n",
       "      <th>65329</th>\n",
       "      <td>8</td>\n",
       "      <td>china</td>\n",
       "      <td>mediumTank</td>\n",
       "      <td>122 TM</td>\n",
       "      <td>65329</td>\n",
       "    </tr>\n",
       "    <tr>\n",
       "      <th>65345</th>\n",
       "      <td>8</td>\n",
       "      <td>france</td>\n",
       "      <td>heavyTank</td>\n",
       "      <td>AMX M4 mle. 49 FL</td>\n",
       "      <td>65345</td>\n",
       "    </tr>\n",
       "  </tbody>\n",
       "</table>\n",
       "<p>810 rows × 5 columns</p>\n",
       "</div>"
      ],
      "text/plain": [
       "      tier   nation        type                 name tank_id\n",
       "1        5     ussr  mediumTank                 T-34       1\n",
       "1057     5      usa  mediumTank         M4A1 Sherman    1057\n",
       "513      7     ussr   heavyTank                   IS     513\n",
       "529      7  germany   heavyTank              Tiger I     529\n",
       "1569     7      usa  mediumTank                  T20    1569\n",
       "...    ...      ...         ...                  ...     ...\n",
       "65073    8    china   heavyTank  WZ-111 Alpine Tiger   65073\n",
       "64321    9   france   heavyTank    AMX M4 mle. 51 FL   64321\n",
       "65297    8  germany   heavyTank              Löwe FL   65297\n",
       "65329    8    china  mediumTank               122 TM   65329\n",
       "65345    8   france   heavyTank    AMX M4 mle. 49 FL   65345\n",
       "\n",
       "[810 rows x 5 columns]"
      ]
     },
     "execution_count": 5,
     "metadata": {},
     "output_type": "execute_result"
    }
   ],
   "source": [
    "df_transposed"
   ]
  },
  {
   "cell_type": "code",
   "execution_count": 54,
   "id": "4db13541",
   "metadata": {},
   "outputs": [],
   "source": [
    "df_transposed = df_transposed.set_index('tank_id')\n",
    "df_transposed = df_transposed[['name', 'type', 'nation', 'tier']]"
   ]
  },
  {
   "cell_type": "code",
   "execution_count": 56,
   "id": "fcd967b7",
   "metadata": {},
   "outputs": [],
   "source": [
    "df_transposed.to_csv('Tank-Information.csv', sep = ',')"
   ]
  }
 ],
 "metadata": {
  "kernelspec": {
   "display_name": "Python 3 (ipykernel)",
   "language": "python",
   "name": "python3"
  },
  "language_info": {
   "codemirror_mode": {
    "name": "ipython",
    "version": 3
   },
   "file_extension": ".py",
   "mimetype": "text/x-python",
   "name": "python",
   "nbconvert_exporter": "python",
   "pygments_lexer": "ipython3",
   "version": "3.11.4"
  }
 },
 "nbformat": 4,
 "nbformat_minor": 5
}
