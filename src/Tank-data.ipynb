{
 "cells": [
  {
   "cell_type": "code",
   "execution_count": null,
   "id": "8ba81238",
   "metadata": {},
   "outputs": [],
   "source": [
    "import requests\n",
    "import json\n",
    "import pandas as pd"
   ]
  },
  {
   "cell_type": "code",
   "execution_count": null,
   "id": "4e670839",
   "metadata": {},
   "outputs": [],
   "source": [
    "base_url = \"https://api.worldoftanks.eu/wot/encyclopedia/vehicles/?application_id=67369ded9212f123394343e566ee&fields=nation%2C+tank_id%2C+name%2C+tier%2C+type&page_no=\"\n",
    "pages = range(1, 10)\n",
    "the_list = {}\n",
    "\n"
   ]
  },
  {
   "cell_type": "code",
   "execution_count": null,
   "id": "8382fa65",
   "metadata": {},
   "outputs": [],
   "source": [
    "for i in pages:\n",
    "    response = requests.get(base_url + \"%d\" %i)\n",
    "    item_load = response.json()\n",
    "    the_list.update(item_load['data'])\n",
    "\n"
   ]
  },
  {
   "cell_type": "code",
   "execution_count": null,
   "id": "21407b1c",
   "metadata": {},
   "outputs": [],
   "source": [
    "df = pd.DataFrame.from_dict(the_list)\n",
    "df_transposed = df.transpose()"
   ]
  },
  {
   "cell_type": "code",
   "execution_count": null,
   "id": "6893822b",
   "metadata": {},
   "outputs": [],
   "source": [
    "df_transposed"
   ]
  },
  {
   "cell_type": "code",
   "execution_count": null,
   "id": "4db13541",
   "metadata": {},
   "outputs": [],
   "source": [
    "df_transposed = df_transposed.set_index('tank_id')\n",
    "df_transposed = df_transposed[['name', 'type', 'nation', 'tier']]"
   ]
  },
  {
   "cell_type": "code",
   "execution_count": null,
   "id": "fcd967b7",
   "metadata": {},
   "outputs": [],
   "source": [
    "df_transposed.to_csv('Tank-Information.csv', sep = ',')"
   ]
  }
 ],
 "metadata": {
  "kernelspec": {
   "display_name": "Python 3 (ipykernel)",
   "language": "python",
   "name": "python3"
  },
  "language_info": {
   "codemirror_mode": {
    "name": "ipython",
    "version": 3
   },
   "file_extension": ".py",
   "mimetype": "text/x-python",
   "name": "python",
   "nbconvert_exporter": "python",
   "pygments_lexer": "ipython3",
   "version": "3.11.4"
  }
 },
 "nbformat": 5,
 "nbformat_minor": 5
}
