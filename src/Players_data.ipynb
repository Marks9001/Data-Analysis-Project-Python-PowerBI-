{
 "cells": [
  {
   "cell_type": "code",
   "execution_count": null,
   "id": "4e6673df",
   "metadata": {},
   "outputs": [],
   "source": [
    "import requests\n",
    "import json\n",
    "import pandas as pd\n",
    "import time"
   ]
  },
  {
   "cell_type": "code",
   "execution_count": null,
   "id": "75f9505a",
   "metadata": {},
   "outputs": [],
   "source": [
    "#Retrieving a list of account ID's based on first three letters of player's nickname"
   ]
  },
  {
   "cell_type": "code",
   "execution_count": null,
   "id": "9e84e4ca",
   "metadata": {},
   "outputs": [],
   "source": [
    "three_letters = ['nic', 'das', 'jee', 'kvi', 'ddt', 'tec', 'ein', 'pek', 'zed', 'bot', 'maw', 'egl', \n",
    "                       'kej', 'cab', 'vyb', 'abc', 'fik', 'hit', 'ill', 'lak', 'siu', 'ulj']"
   ]
  },
  {
   "cell_type": "code",
   "execution_count": null,
   "id": "c036d642",
   "metadata": {},
   "outputs": [],
   "source": [
    "base_url = \"https://api.worldoftanks.eu/wot/account/list/?application_id=\"\n",
    "application_id = '67369ded9212f123394343e566e'\n",
    "\n",
    "player_list = []\n",
    "\n",
    "for i in three_letters:\n",
    "    response = requests.get(base_url + application_id + '&type=startswith&search=' + i)\n",
    "    iload = response.json()\n",
    "    player_list.extend(iload['data'])    "
   ]
  },
  {
   "cell_type": "code",
   "execution_count": null,
   "id": "3eca1bff",
   "metadata": {},
   "outputs": [],
   "source": [
    "account_ids_str = [str(d['account_id']) for d in player_list]"
   ]
  },
  {
   "cell_type": "code",
   "execution_count": null,
   "id": "3d695e23",
   "metadata": {},
   "outputs": [],
   "source": [
    "#Splitting account id's to 100 per chunk and joining them to use in request URL's\n",
    "#(API allows only 100 id's per one request)"
   ]
  },
  {
   "cell_type": "code",
   "execution_count": null,
   "id": "1407f5e4",
   "metadata": {},
   "outputs": [],
   "source": [
    "two_d_list = [account_ids_str[x:x + 100] for x in range(0, len(account_ids_str), 100)]"
   ]
  },
  {
   "cell_type": "code",
   "execution_count": null,
   "id": "ba79c36b",
   "metadata": {},
   "outputs": [],
   "source": [
    "string_chunk = ['%2C'.join(i) for i in two_d_list]"
   ]
  },
  {
   "cell_type": "code",
   "execution_count": null,
   "id": "243f0d7f",
   "metadata": {},
   "outputs": [],
   "source": [
    "string_chunk"
   ]
  },
  {
   "cell_type": "code",
   "execution_count": null,
   "id": "313ed73f",
   "metadata": {},
   "outputs": [],
   "source": [
    "#Now getting the player data and storing in JSON"
   ]
  },
  {
   "cell_type": "code",
   "execution_count": null,
   "id": "3f8a93cb",
   "metadata": {},
   "outputs": [],
   "source": [
    "player_data = []"
   ]
  },
  {
   "cell_type": "code",
   "execution_count": null,
   "id": "fa716135",
   "metadata": {},
   "outputs": [],
   "source": [
    "url = \"https://api.worldoftanks.eu/wot/account/info/?application_id=\"\n",
    "application_id = '67369ded9212f123394343e566ee'\n",
    "params = '&fields=account_id%2C+created_at%2C+global_rating%2C+statistics.all.battles%2C+statistics.all.max_damage%2C+statistics.all.max_damage_tank_id%2C+statistics.all.max_frags%2C+statistics.all.max_frags_tank_id%2C+statistics.all.max_xp%2C+statistics.all.max_xp_tank_id%2C+statistics.all.shots%2C+statistics.all.wins&account_id='\n",
    "for i in string_chunk:\n",
    "    response1 = requests.get(url + application_id + params + i)\n",
    "    item_load = response1.json()\n",
    "    player_data.append(item_load)    \n",
    "    \n",
    "    time.sleep(1.5)"
   ]
  },
  {
   "cell_type": "code",
   "execution_count": null,
   "id": "c835be5a",
   "metadata": {},
   "outputs": [],
   "source": [
    "# Flattening the JSON"
   ]
  },
  {
   "cell_type": "code",
   "execution_count": null,
   "id": "6c6839ae",
   "metadata": {},
   "outputs": [],
   "source": [
    "pre_flattened = {}\n",
    "for i in range(len(player_data)):\n",
    "    pre_flattened.update(player_data[i])"
   ]
  },
  {
   "cell_type": "code",
   "execution_count": null,
   "id": "b79dd760",
   "metadata": {},
   "outputs": [],
   "source": [
    "flattened = []\n",
    "for acc_id in account_ids_str:\n",
    "    flattened.append(pre_flattened[acc_id])"
   ]
  },
  {
   "cell_type": "code",
   "execution_count": null,
   "id": "7e69666e",
   "metadata": {},
   "outputs": [],
   "source": [
    "#Exploring and cleaning data"
   ]
  },
  {
   "cell_type": "code",
   "execution_count": null,
   "id": "f8a94c43",
   "metadata": {},
   "outputs": [],
   "source": [
    "data = pd.json_normalize(flattened)\n",
    "data.to_csv('Player-data.csv', sep = ',', index = False)"
   ]
  },
  {
   "cell_type": "code",
   "execution_count": null,
   "id": "3baadad4",
   "metadata": {},
   "outputs": [],
   "source": [
    "df = pd.read_csv('Player-data.csv' , index_col = 'account_id')\n",
    "df_copy = df.copy()"
   ]
  },
  {
   "cell_type": "code",
   "execution_count": null,
   "id": "23bb4f7b",
   "metadata": {},
   "outputs": [],
   "source": [
    "df_copy.info()"
   ]
  },
  {
   "cell_type": "code",
   "execution_count": null,
   "id": "dc6eb620",
   "metadata": {},
   "outputs": [],
   "source": [
    "df_copy.describe()"
   ]
  },
  {
   "cell_type": "code",
   "execution_count": null,
   "id": "706bff45",
   "metadata": {},
   "outputs": [],
   "source": [
    "pd.isna(df_copy).sum()"
   ]
  },
  {
   "cell_type": "code",
   "execution_count": null,
   "id": "2f2e737d",
   "metadata": {},
   "outputs": [],
   "source": [
    "df_copy.columns = df_copy.columns.str.removeprefix('statistics.all.').to_list()"
   ]
  },
  {
   "cell_type": "code",
   "execution_count": null,
   "id": "e96e0de7",
   "metadata": {},
   "outputs": [],
   "source": [
    "df_copy['created_at'] = pd.to_datetime(df_copy['created_at'], unit = 's').dt.date"
   ]
  },
  {
   "cell_type": "code",
   "execution_count": null,
   "id": "fe0892c4",
   "metadata": {},
   "outputs": [],
   "source": [
    "df_copy.fillna(0, inplace=True)"
   ]
  },
  {
   "cell_type": "code",
   "execution_count": null,
   "id": "f5ac89b1",
   "metadata": {},
   "outputs": [],
   "source": [
    "df_copy.to_csv('Player-Data-clean.csv', sep= ',')"
   ]
  },
  {
   "cell_type": "code",
   "execution_count": null,
   "id": "6094e1b4",
   "metadata": {},
   "outputs": [],
   "source": [
    "#Retrieving Player Vehicle data"
   ]
  },
  {
   "cell_type": "code",
   "execution_count": null,
   "id": "0a411d11",
   "metadata": {},
   "outputs": [],
   "source": [
    "vehicle_data = {}"
   ]
  },
  {
   "cell_type": "code",
   "execution_count": null,
   "id": "45e6118c",
   "metadata": {},
   "outputs": [],
   "source": [
    "url = \"https://api.worldoftanks.eu/wot/account/tanks/?application_id=\"\n",
    "application_id = '67369ded9212f123394343e566ee'\n",
    "\n",
    "for i in string_chunk:\n",
    "    response1 = requests.get(url + application_id + '&account_id=' + i)\n",
    "    item_load = response1.json()\n",
    "    vehicle_data.update(item_load['data'])    \n",
    "    \n",
    "    time.sleep(1.5)"
   ]
  },
  {
   "cell_type": "code",
   "execution_count": null,
   "id": "a2a2cb00",
   "metadata": {},
   "outputs": [],
   "source": [
    "with open(\"Vehicle-data.json\", \"w\") as outfile:\n",
    "    json.dump(vehicle_data, outfile, indent = 2)"
   ]
  },
  {
   "cell_type": "code",
   "execution_count": null,
   "id": "739e39c3",
   "metadata": {},
   "outputs": [],
   "source": [
    "#Flattening JSON"
   ]
  },
  {
   "cell_type": "code",
   "execution_count": null,
   "id": "d6b02100",
   "metadata": {},
   "outputs": [],
   "source": [
    "with open(\"Vehicle-data.json\", \"r\") as file:\n",
    "    data = json.load(file)"
   ]
  },
  {
   "cell_type": "code",
   "execution_count": null,
   "id": "bfd8efb4",
   "metadata": {},
   "outputs": [],
   "source": [
    "list_of_keys = [i for i in data]"
   ]
  },
  {
   "cell_type": "code",
   "execution_count": null,
   "id": "d53b3f35",
   "metadata": {},
   "outputs": [],
   "source": [
    "df=[]\n",
    "keys = []\n",
    "for i in list_of_keys:\n",
    "    for j in range(len(data[i])):\n",
    "        df.append(data[i][j])\n",
    "        keys.append(str(i))"
   ]
  },
  {
   "cell_type": "code",
   "execution_count": null,
   "id": "c0635cf3",
   "metadata": {},
   "outputs": [],
   "source": [
    "clean_df = pd.json_normalize(df)\n",
    "clean_df['account_keys'] = keys"
   ]
  },
  {
   "cell_type": "code",
   "execution_count": null,
   "id": "79ebd060",
   "metadata": {},
   "outputs": [],
   "source": [
    "clean_df.set_index('account_keys', inplace = True)"
   ]
  },
  {
   "cell_type": "code",
   "execution_count": null,
   "id": "a226ffc9",
   "metadata": {},
   "outputs": [],
   "source": [
    "clean_df.to_csv('Playe-Vehicle-data-clean.csv', sep = ',')"
   ]
  }
 ],
 "metadata": {
  "kernelspec": {
   "display_name": "Python 3 (ipykernel)",
   "language": "python",
   "name": "python3"
  },
  "language_info": {
   "codemirror_mode": {
    "name": "ipython",
    "version": 3
   },
   "file_extension": ".py",
   "mimetype": "text/x-python",
   "name": "python",
   "nbconvert_exporter": "python",
   "pygments_lexer": "ipython3",
   "version": "3.11.4"
  }
 },
 "nbformat": 4,
 "nbformat_minor": 5
}
